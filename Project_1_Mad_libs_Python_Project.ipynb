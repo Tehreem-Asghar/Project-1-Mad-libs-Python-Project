{
  "nbformat": 4,
  "nbformat_minor": 0,
  "metadata": {
    "colab": {
      "provenance": [],
      "authorship_tag": "ABX9TyOIFXAC4KRPINdsnBsR8cdY",
      "include_colab_link": true
    },
    "kernelspec": {
      "name": "python3",
      "display_name": "Python 3"
    },
    "language_info": {
      "name": "python"
    }
  },
  "cells": [
    {
      "cell_type": "markdown",
      "metadata": {
        "id": "view-in-github",
        "colab_type": "text"
      },
      "source": [
        "<a href=\"https://colab.research.google.com/github/Tehreem-Asghar/Project-1-Mad-libs-Python-Project/blob/main/Project_1_Mad_libs_Python_Project.ipynb\" target=\"_parent\"><img src=\"https://colab.research.google.com/assets/colab-badge.svg\" alt=\"Open In Colab\"/></a>"
      ]
    },
    {
      "cell_type": "code",
      "source": [
        "# Ultimate Funny Web Developer Mad Libs Game in Python 🎉💻🐱\n",
        "import random\n",
        "import pprint\n",
        "\n",
        "def mad_libs():\n",
        "    # Taking inputs from the user 📝\n",
        "    name = input(\"Enter your name: \")\n",
        "    framework = input(\"Enter a web development framework: \")\n",
        "    bug_type = input(\"Enter a funny bug name: \")\n",
        "    boss_name = input(\"Enter a funny boss name: \")\n",
        "    coffee_type = input(\"Enter a type of coffee: ☕\")\n",
        "    coding_language = input(\"Enter a coding language: \")\n",
        "    website = input(\"Enter a weird website name: 🌐\")\n",
        "    reaction = input(\"Enter a funny reaction (e.g., screamed, fainted): 😱\")\n",
        "    object_nearby = input(\"Enter an object near you: 🎮\")\n",
        "    animal = input(\"Enter a funny animal: 🐵\")\n",
        "    snack = input(\"Enter a favorite snack: 🍕\")\n",
        "\n",
        "    # Creating a list of random story endings 🎭\n",
        "    endings = [\n",
        "        \"{name} finally fixed the {bug_type}, only to realize their pet {animal} had chewed through the internet cable! 🐾💥\",\n",
        "        \"The {boss_name} was so impressed that they promoted {name} to 'Chief Debugging Officer' and gifted them unlimited {coffee_type}! 🎖️☕\",\n",
        "        \"But oh no! Just as {name} was about to relax, the {bug_type} duplicated itself 100 times and created an army of bugs! 🐛💻😨\",\n",
        "        \"After all the chaos, {name} quit coding and became a professional {snack} reviewer instead. 🍔😂\",\n",
        "        \"Suddenly, {name} discovered the bug wasn't a bug at all—it was their {animal} walking on the keyboard, accidentally launching the website! 🐾⌨️🚀\",\n",
        "        \"{name} smashed the keyboard in frustration, only for the code to magically fix itself! ✨ A legendary moment in coding history! 🏆👨‍💻\",\n",
        "        \"{boss_name} challenged {name} to a coding duel. If {name} lost, they had to bring {coffee_type} for the whole office forever! ☕🤺\"\n",
        "    ]\n",
        "\n",
        "    # Generating a random story ending 🎲\n",
        "    ending = random.choice(endings)\n",
        "\n",
        "    # Creating the funny web developer story using f-strings ✨\n",
        "    story = f\"One fine morning, {name}, a world-class web developer, sat down with their favorite {coffee_type} ☕ to work on an important project using {framework} 🖥️. \\\n",
        "Just as they started, their screen suddenly flickered! Panic set in. {name} {reaction} 😱, realizing the dreaded {bug_type} had struck again! 💀⚡ \\\n",
        "Meanwhile, {boss_name} stormed into the room, dramatically waving their {object_nearby} 🎮, yelling that the website {website} 🌐 had crashed the entire internet! 🚨💥 \\\n",
        "{name} took a deep breath, powered up their {coding_language} skills 💡, and started typing at lightning speed. But just as they were about to fix the bug, their pet {animal} 🐵 jumped onto the keyboard, causing the website to launch in an unknown language! 🈵🚀 \\\n",
        "{name} screamed, grabbed a handful of {snack} 🍕 for energy, and furiously tried to regain control. {ending}\".replace(\"{name}\", name).replace(\"{framework}\", framework).replace(\"{bug_type}\", bug_type).replace(\"{boss_name}\", boss_name).replace(\"{coffee_type}\", coffee_type).replace(\"{coding_language}\", coding_language).replace(\"{website}\", website).replace(\"{reaction}\", reaction).replace(\"{object_nearby}\", object_nearby).replace(\"{animal}\", animal).replace(\"{snack}\", snack)\n",
        "\n",
        "    # Printing the final funny story 🎬😂\n",
        "    print(\"*************************************************************************************************************\")\n",
        "    print(\"🌟✨ YOUR CRAZY WEB DEVELOPER STORY ✨🌟\")\n",
        "    print(\"*************************************************************************************************************\")\n",
        "    print(\"    \")\n",
        "    # print(story)\n",
        "    print(story.replace(\".\", \".\\n\"))\n",
        "\n",
        "# Running the game 🚀\n",
        "mad_libs()\n"
      ],
      "metadata": {
        "colab": {
          "base_uri": "https://localhost:8080/"
        },
        "id": "L3qWW_hjBE_w",
        "outputId": "7606843a-3545-4e92-a8a5-34624c25f3e6"
      },
      "execution_count": 9,
      "outputs": [
        {
          "output_type": "stream",
          "name": "stdout",
          "text": [
            "Enter your name: Tehreem\n",
            "Enter a web development framework: nextjs\n",
            "Enter a funny bug name: anonymous bug\n",
            "Enter a funny boss name: angry boss\n",
            "Enter a type of coffee: ☕green tea\n",
            "Enter a coding language: typescript\n",
            "Enter a weird website name: 🌐xyz.com\n",
            "Enter a funny reaction (e.g., screamed, fainted): 😱fainted\n",
            "Enter an object near you: 🎮computer\n",
            "Enter a funny animal: 🐵cat\n",
            "Enter a favorite snack: 🍕pizza\n",
            "*************************************************************************************************************\n",
            "🌟✨ YOUR CRAZY WEB DEVELOPER STORY ✨🌟\n",
            "*************************************************************************************************************\n",
            "    \n",
            "One fine morning, Tehreem, a world-class web developer, sat down with their favorite green tea ☕ to work on an important project using nextjs 🖥️.\n",
            " Just as they started, their screen suddenly flickered! Panic set in.\n",
            " Tehreem fainted 😱, realizing the dreaded anonymous bug had struck again! 💀⚡ Meanwhile, angry boss stormed into the room, dramatically waving their computer 🎮, yelling that the website xyz.\n",
            "com 🌐 had crashed the entire internet! 🚨💥 Tehreem took a deep breath, powered up their typescript skills 💡, and started typing at lightning speed.\n",
            " But just as they were about to fix the bug, their pet cat 🐵 jumped onto the keyboard, causing the website to launch in an unknown language! 🈵🚀 Tehreem screamed, grabbed a handful of pizza 🍕 for energy, and furiously tried to regain control.\n",
            " Tehreem smashed the keyboard in frustration, only for the code to magically fix itself! ✨ A legendary moment in coding history! 🏆👨‍💻\n"
          ]
        }
      ]
    }
  ]
}